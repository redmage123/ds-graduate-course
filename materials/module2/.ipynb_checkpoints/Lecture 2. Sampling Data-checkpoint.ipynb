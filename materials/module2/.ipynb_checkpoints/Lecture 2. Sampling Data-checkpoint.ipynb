{
 "cells": [
  {
   "cell_type": "markdown",
   "metadata": {},
   "source": [
    "# Sampling data and simulations. \n",
    "\n",
    "In this lecture, we will discuss \n",
    "- What is a sampling frame and sampling error.\n",
    "- Give examples of how to do simple random sampling and how to do systematic sampling. \n",
    "- Explain the differences between the two sampling types and when to choose one over the other. \n",
    "- Differences between clustering and convenience sampling. \n"
   ]
  },
  {
   "cell_type": "markdown",
   "metadata": {},
   "source": [
    "## Sampling definitions\n",
    "\n",
    "In samples, we extract a subset of the population data because we would like to perform some inferential statistics on it. \n",
    "\n",
    "In other words, we want to infer some results of a population based on the analysis of the sample data. \n",
    "\n",
    "Why do this?  Well, in many cases, analyzing the entire population may not be feasible, or even necessary. \n"
   ]
  },
  {
   "cell_type": "markdown",
   "metadata": {},
   "source": [
    "### Sampling frame\n",
    "A sampling frame is simply a list of individuals from which a sample is actually selected. \n",
    "\n",
    "This list may be a physical or concrete list.  For example, a list of students enrolled at a  University.\n",
    "\n",
    "Also, this list may be a theoretical one, i.e. The list of students who may enroll in the University for the fall quarter. \n",
    "\n"
   ]
  },
  {
   "cell_type": "markdown",
   "metadata": {},
   "source": [
    "### Undercoverage\n",
    "\n",
    "It is important to understand that your sampling frame should include everyone that has a chance of being selected for your sample. \n",
    "\n",
    "Failure to do this may lead to *undercoverage*.  This can skew your results and ultimately may lead to poor decision-making based on the results of your analysis. \n",
    "\n",
    "How can this happen?  For example, if the population list is incomplete or not up to date, then you may miss people that are added after you're received the data. \n",
    "\n",
    "\n"
   ]
  },
  {
   "cell_type": "markdown",
   "metadata": {},
   "source": [
    "### Sampling errors.\n",
    "\n",
    "When taking samples from a population, you will almost certainly have errors, both in the mean and the percentages.\n",
    "\n",
    "That is to say, when taking a sample mean, it will almost certainly be different than the population mean. \n",
    "\n",
    "Also, sample percentages will be different from population percentages. \n",
    "\n",
    "These types of errors are usually unavoidable and steps can be taken to account for them. \n"
   ]
  },
  {
   "cell_type": "markdown",
   "metadata": {},
   "source": [
    "### Non-sampling errors. \n",
    "These are errors that are avoidable and care should be taken to make sure that they don't occur. \n",
    "\n",
    "For example, using a sample list that has incomplete or bad data. \n",
    "It is important to make sure that everyone in the population that is supposed to be in your sample is actually there.  Additionally, it is important to make sure that individuals who are not supposed to be on that list are not included. \n",
    "\n"
   ]
  },
  {
   "cell_type": "markdown",
   "metadata": {},
   "source": [
    "### Causes of errors. \n",
    "\n",
    "- Sampling errors.  Caused by the fact that regardless of what you do, your sample will not perfectly represent the population. \n",
    "\n",
    "- Non-sampling errors.  Caused by many things, including\n",
    "    - Poor sample design.\n",
    "    - Sloppy data collection.\n",
    "    - Inaccurate measurement instruments. \n",
    "    - Bias in data collection. \n",
    "    - Systemic problems introduced by the researchers. \n",
    "    \n"
   ]
  },
  {
   "cell_type": "markdown",
   "metadata": {},
   "source": [
    "It is important to do our best to avoid non-sampling errors. \n",
    "We do this by avoiding undercoverage of our sampling frame.  "
   ]
  },
  {
   "cell_type": "markdown",
   "metadata": {},
   "source": [
    "## Simulations. \n",
    "\n",
    "A simulation is defined as a 'numerical facsimile or representation of a real world phenomenon'. \n",
    "\n",
    "It is basically working through a pretended situation to see how it would compare to a real situation. "
   ]
  },
  {
   "cell_type": "markdown",
   "metadata": {},
   "source": [
    "## Simple random sampling\n",
    "\n",
    "A definition of simple random sampling:\n",
    "'A simple random sample of *n* measurements from a population is a subset of the population selected in such a manner that every sample of size *n*  has an equal chance of being selected.'\n",
    "\n",
    "This is just a wordy way of saying that any individual in a population has the same chance of being selected for a sample as any other individual.\n",
    "\n",
    "For example: If we have a list of the population of a class of students, and we want to take a sample n=5 (Remember that the lower case n stands for a sample), then a random sample means that all different permutations of the five students has an equal chance of being picked for the sample.\n",
    "\n",
    "\n",
    "\n",
    "\n"
   ]
  },
  {
   "cell_type": "markdown",
   "metadata": {},
   "source": [
    "### How to pick a random sample.\n",
    "In our previous example with students, there may be many good ways to pick a representative sample.\n",
    "For example:\n",
    "\n",
    "- We could number all of the individuals in the population with a unique number, such as a student ID.\n",
    "- We could put all of the student ID numbers in a place where you can randomly draw from without looking, such as a hat. \n",
    "- We can then draw five ID's and use that for our sample frame. \n"
   ]
  },
  {
   "cell_type": "markdown",
   "metadata": {},
   "source": [
    "### Limits of random sampling. \n",
    "\n",
    "Although random sampling is a good way to draw a sample frame from a population, there are drawbacks to this method. \n",
    "\n",
    "- We need a list.  If we don't know ahead of time what your population will look like, then we can't create a list from it.\n",
    "\n",
    "- The list has to be representative.  There's always the danger of undercoverage when compiling lists from a population. \n"
   ]
  },
  {
   "cell_type": "markdown",
   "metadata": {},
   "source": [
    "## Stratified sampling\n",
    "With stratified sampling, we divide our list into groups, or *strata.*\n",
    "We do this so that we can make sure that we have certain proportions of groups in the final sample. \n",
    "Next, we then perform random sampling on each strata. \n",
    "\n",
    "An example of strata might be dividing the population of studetns at a University into first year, second year, third year and fourth year students, or into undergraduate students, graduate students and post-doctoral researchers. \n",
    "\n",
    "\n"
   ]
  },
  {
   "cell_type": "markdown",
   "metadata": {},
   "source": [
    "### Limitations of stratified sampling. \n",
    "Oversampling one group means that your summary statistic is unbalanced.  For example, if one group has a smaller population size than the larger group, then that smaller group may be over-represented in the final sample frame. \n",
    "\n",
    "As with random sampling, you need a list to be able to stratify your groups. \n",
    "It may also be difficult to actually split your list into groups. \n",
    "\n"
   ]
  },
  {
   "cell_type": "markdown",
   "metadata": {},
   "source": [
    "## Systematic sampling. \n",
    "\n",
    "Systematic sampling can be done with or without a list. \n",
    "Do perform systematic sampling we do the following:\n",
    "- Arrange the individuals of the population in some particular order, for example, alphabetic order. \n",
    "- Start by picking a random individual from the population. \n",
    "- Define a number *k*.\n",
    "- Pick every *k*th member of the population for the sample. \n"
   ]
  },
  {
   "cell_type": "markdown",
   "metadata": {},
   "source": [
    "### Characteristics of Systematic Sampling. \n",
    "Systematic sampling doesn't work when there is a specific pattern to the data (for example, if the population is arranged in alternating genders, i.e. boy/girl, boy/girl). \n",
    "You can do systematic sampling in a clinical setting, for example, where there is no known periodicity. \n",
    "\n"
   ]
  },
  {
   "cell_type": "markdown",
   "metadata": {},
   "source": [
    "## Cluster Sampling.\n",
    "Cluster sampling is effective when the population involves geographic locations. \n",
    "\n",
    "We use cluster sampling when a problem is localized to a particular geographic location. \n"
   ]
  },
  {
   "cell_type": "markdown",
   "metadata": {},
   "source": [
    "In cluster sampling, we begin by dividing the map into geographical areas. \n",
    "Then, we randomly pick clusters, or areas from the map. We take all of the people in the cluster for our sample. \n",
    "\n"
   ]
  },
  {
   "cell_type": "markdown",
   "metadata": {},
   "source": [
    "### Problems with cluster sampling. \n",
    "\n",
    "Sometimes, the individuals located in a cluster are all similar in a way that makes the problem hard to study. \n",
    "\n",
    "For example, if we're trying analyze statistical information to see if a particular factory is causing health problems, such as cancer in a population, if the population are all in lower income brackets, and perhaps there are other causes of pollution in that geographic area, then it will be difficult to extract out meaningful data for the problem that we are trying ti solve.\n",
    "\n"
   ]
  },
  {
   "cell_type": "markdown",
   "metadata": {},
   "source": [
    "## Convenience and multi-stage sampling. \n",
    "\n",
    "Convenience sampling is generally used for *low risk* scenarios, for example, trying to find the best restaurant in the area next to a hotel. \n",
    "\n",
    "To do this, you might ask some of the guests or workers in the hotel for their recommendation. \n",
    " \n",
    "Note that these results are often unreliable. \n",
    "\n",
    "Defining convenience sampling:\n",
    "- Using results or data that is easily obtained. \n",
    "- Can be useful if there are not a lot of resources available for the study. \n",
    "- Generally uses an already assembled group for the survey. \n"
   ]
  },
  {
   "cell_type": "markdown",
   "metadata": {},
   "source": [
    "### Problems with convenience sampling. \n",
    "- Usually a bias in each group.\n",
    "- We often can miss important subpopulations (Addressed by stratified sampling). \n",
    "- Results can be severely biased. \n"
   ]
  },
  {
   "cell_type": "markdown",
   "metadata": {},
   "source": [
    "## Multi-stage sampling. \n",
    "\n",
    "Multi-stage sampling takes a combination of sampling strategies and combines them. \n",
    "\n",
    "For example:\n",
    "\n",
    "- Stage 1.  Cluster sample of US states. \n",
    "- Stage 2.  Simple random sample of counties in each state. \n",
    "- Stage 3. Stratified sample of secondary schools in each county. \n",
    "- Stage 4.  Stratified sample of students in each classroom in the school. \n",
    "\n"
   ]
  }
 ],
 "metadata": {
  "kernelspec": {
   "display_name": "Python 3",
   "language": "python",
   "name": "python3"
  },
  "language_info": {
   "codemirror_mode": {
    "name": "ipython",
    "version": 3
   },
   "file_extension": ".py",
   "mimetype": "text/x-python",
   "name": "python",
   "nbconvert_exporter": "python",
   "pygments_lexer": "ipython3",
   "version": "3.6.8"
  }
 },
 "nbformat": 4,
 "nbformat_minor": 4
}
