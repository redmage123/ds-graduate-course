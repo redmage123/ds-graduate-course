{
 "cells": [
  {
   "cell_type": "markdown",
   "metadata": {},
   "source": [
    "# Frequency Histograms\n",
    "\n",
    "A frequency histogram is an important graph in statistics. \n",
    "It is a specific type of bar chart made from data in a frequency table.\n",
    "\n",
    "The purpose of these charts are to identify the 'distribution' of data. "
   ]
  },
  {
   "cell_type": "markdown",
   "metadata": {},
   "source": [
    "### How to create  frequency diagram. \n",
    "\n",
    "1.  Make a frequency table. \n",
    "For example:\n",
    "\n",
    "<table>\n",
    "    <tr>\n",
    "        <th> Class Limits</th>\n",
    "        <th> Frequency </th>\n",
    "        <th> Relative Frequency </th>\n",
    "    </tr>\n",
    "    <tr>\n",
    "        <td> 1-8 Miles </td>\n",
    "        <td> 14 </td>\n",
    "        <td>0.23</td>\n",
    "    </tr>\n",
    "    <tr>\n",
    "        <td> 9-16 miles </td>\n",
    "        <td> 21 </td>\n",
    "        <td> 0.35 </td>\n",
    "    </tr>\n",
    "    <tr>\n",
    "        <td> 17-24 miles </td>\n",
    "        <td> 11 </td>\n",
    "        <td> 0.16 </td>\n",
    "    </tr>\n",
    "    <tr>\n",
    "        <td> 33-40 miles </td>\n",
    "        <td> 4 </td>\n",
    "        <td> 0,07 </td>\n",
    "    </tr>\n",
    "    <tr>\n",
    "        <td> 41-46 miles </td>\n",
    "        <td> 4 </td>\n",
    "        <td> 0.07</td>\n",
    "    </tr>\n",
    "    <tr> \n",
    "        <td> Total </td>\n",
    "        <td> 60 </td>\n",
    "        <td> 1,.00 </td>\n",
    "    </tr>\n",
    "    </table>"
   ]
  },
  {
   "cell_type": "markdown",
   "metadata": {},
   "source": [
    "The above table is data showing patient transport by ambulance to a hospital, i.e. about 23 per cent of patients are transported betwen 1-8 miles.  35 per cent of patients are trnsported between 9-16 miles to the hospital, and so on. \n"
   ]
  },
  {
   "cell_type": "markdown",
   "metadata": {},
   "source": [
    "2. Create a y-axis by drawing a vertical line.\n",
    "The Y-axis label should always have a title like:  'Frequency of...'\n",
    "3. Create the x-axis by drawing a horizontal line.\n",
    "Write the classes below the x-axis and label them. \n",
    "4.  For the first class, find the frequency in the table. Look for it on the y-axis and draw a horizontal line. Once you have the horizontal line, draw two vertical lines beneath the horizontal lines to create the bar.  \n",
    "5.  Color the bars appropriately. \n",
    "\n",
    "\n",
    "\n"
   ]
  },
  {
   "cell_type": "markdown",
   "metadata": {},
   "source": [
    "In a relative frequency histogram, the relative frequencies are labeled on the y-axis. \n",
    "Relative frequency diagrams are better for comparing two samples or two populations. "
   ]
  },
  {
   "cell_type": "markdown",
   "metadata": {},
   "source": [
    "Here we're going to use python, pandas and matplotlib to create a frequency histogram of the above data. "
   ]
  },
  {
   "cell_type": "code",
   "execution_count": null,
   "metadata": {},
   "outputs": [],
   "source": [
    "%matplotlib inline\n",
    "import pandas as pd\n",
    "import matplotlib.pyplot as plt\n",
    "import numpy as np\n",
    "\n",
    "data = [['1-8 miles',14,0.23],['9-16 miles',21,0.35],['17-24 miles',11,0.16],\n",
    "        ['33-40 miles',4,0.07],['41-46 miles',4,0.07],['Total',60,1.00]]\n",
    "print (data)"
   ]
  }
 ],
 "metadata": {
  "kernelspec": {
   "display_name": "Python 3",
   "language": "python",
   "name": "python3"
  },
  "language_info": {
   "codemirror_mode": {
    "name": "ipython",
    "version": 3
   },
   "file_extension": ".py",
   "mimetype": "text/x-python",
   "name": "python",
   "nbconvert_exporter": "python",
   "pygments_lexer": "ipython3",
   "version": "3.6.8"
  }
 },
 "nbformat": 4,
 "nbformat_minor": 4
}
