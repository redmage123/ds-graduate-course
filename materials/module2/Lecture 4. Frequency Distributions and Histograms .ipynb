{
 "cells": [
  {
   "cell_type": "markdown",
   "metadata": {},
   "source": [
    "# Frequency Histograms\n",
    "\n",
    "A frequency histogram is an important graph in statistics. \n",
    "It is a specific type of bar chart made from data in a frequency table.\n",
    "\n",
    "The purpose of these charts are to identify the 'distribution' of data. "
   ]
  },
  {
   "cell_type": "markdown",
   "metadata": {},
   "source": [
    "### How to create  frequency diagram. \n",
    "\n",
    "1.  Make a frequency table. \n",
    "For example:\n",
    "\n",
    "<table>\n",
    "    <tr>\n",
    "        <th> Class Limits</th>\n",
    "        <th> Frequency </th>\n",
    "        <th> Relative Frequency </th>\n",
    "    </tr>\n",
    "    <tr>\n",
    "        <td> 1-8 Miles </td>\n",
    "        <td> 14 </td>\n",
    "        <td>0.23</td>\n",
    "    </tr>\n",
    "    <tr>\n",
    "        <td> 9-16 miles </td>\n",
    "        <td> 21 </td>\n",
    "        <td> 0.35 </td>\n",
    "    </tr>\n",
    "    <tr>\n",
    "        <td> 17-24 miles </td>\n",
    "        <td> 11 </td>\n",
    "        <td> 0.16 </td>\n",
    "    </tr>\n",
    "    <tr>\n",
    "        <td> 33-40 miles </td>\n",
    "        <td> 4 </td>\n",
    "        <td> 0,07 </td>\n",
    "    </tr>\n",
    "    <tr>\n",
    "        <td> 41-46 miles </td>\n",
    "        <td> 4 </td>\n",
    "        <td> 0.07</td>\n",
    "    </tr>\n",
    "    <tr> \n",
    "        <td> Total </td>\n",
    "        <td> 60 </td>\n",
    "        <td> 1,.00 </td>\n",
    "    </tr>\n",
    "    </table>"
   ]
  },
  {
   "cell_type": "markdown",
   "metadata": {},
   "source": [
    "The above table is data showing patient transport by ambulance to a hospital, i.e. about 23 per cent of patients are transported betwen 1-8 miles.  35 per cent of patients are trnsported between 9-16 miles to the hospital, and so on. \n"
   ]
  },
  {
   "cell_type": "markdown",
   "metadata": {},
   "source": [
    "2. Create a y-axis by drawing a vertical line.\n",
    "The Y-axis label should always have a title like:  'Frequency of...'\n",
    "3. Create the x-axis by drawing a horizontal line.\n",
    "Write the classes below the x-axis and label them. \n",
    "4.  For the first class, find the frequency in the table. Look for it on the y-axis and draw a horizontal line. Once you have the horizontal line, draw two vertical lines beneath the horizontal lines to create the bar.  \n",
    "5.  Color the bars appropriately. \n",
    "\n",
    "\n",
    "\n"
   ]
  },
  {
   "cell_type": "markdown",
   "metadata": {},
   "source": [
    "In a relative frequency histogram, the relative frequencies are labeled on the y-axis. \n",
    "Relative frequency diagrams are better for comparing two samples or two populations. "
   ]
  },
  {
   "cell_type": "markdown",
   "metadata": {},
   "source": [
    "Here we're going to use python, pandas and matplotlib to create a frequency histogram of the above data. "
   ]
  },
  {
   "cell_type": "code",
   "execution_count": 47,
   "metadata": {},
   "outputs": [
    {
     "data": {
      "text/plain": [
       "Text(0,0.5,'Frequency')"
      ]
     },
     "execution_count": 47,
     "metadata": {},
     "output_type": "execute_result"
    },
    {
     "data": {
      "image/png": "[encoded data removed]",
      "text/plain": [
       "<Figure size 432x288 with 1 Axes>"
      ]
     },
     "metadata": {
      "needs_background": "light"
     },
     "output_type": "display_data"
    }
   ],
   "source": [
    "%matplotlib inline\n",
    "import pandas as pd\n",
    "import matplotlib.pyplot as plt\n",
    "import numpy as np\n",
    "\n",
    "data = [['1-8 miles',14,0.23],['9-16 miles',21,0.35],['17-24 miles',11,0.16],\n",
    "        ['33-40 miles',4,0.07],['41-46 miles',4,0.07],['Total',60,1.00]]\n",
    "cols = ['Class Limits','Frequency','Relative Frequency']\n",
    "df = pd.DataFrame(data,columns = cols)\n",
    "df2 = df [['Class Limits','Frequency']]\n",
    "last_row = len(df)-1\n",
    "df2 = df2.drop(df2.index[last_row])\n",
    "ax = df2.plot.bar(x='Class Limits', y = 'Frequency')\n",
    "ax.set_ylabel('Frequency')"
   ]
  },
  {
   "cell_type": "code",
   "execution_count": 46,
   "metadata": {},
   "outputs": [
    {
     "data": {
      "text/plain": [
       "Text(0,0.5,'Relative Frequency')"
      ]
     },
     "execution_count": 46,
     "metadata": {},
     "output_type": "execute_result"
    },
    {
     "data": {
      "image/png": "[encoded data removed]",
      "text/plain": [
       "<Figure size 432x288 with 1 Axes>"
      ]
     },
     "metadata": {
      "needs_background": "light"
     },
     "output_type": "display_data"
    }
   ],
   "source": [
    "df3 = df[['Class Limits','Relative Frequency']]\n",
    "df3 = df3.drop(df3.index[last_row])\n",
    "ax = df3.plot.bar(x='Class Limits', y = 'Relative Frequency')\n",
    "ax.set_ylabel('Relative Frequency')"
   ]
  },
  {
   "cell_type": "markdown",
   "metadata": {},
   "source": [
    "In the above two examples, we used python, pandas and matplotlib to create a frequency histogram as well as a relative frequency histogram. Note that in each case, we dropped the row of data that indicated the total as that isn't relative to our histogram. "
   ]
  },
  {
   "cell_type": "markdown",
   "metadata": {},
   "source": [
    "For comparing two or more different groups, we are better served by using the relative frequency as the visual bar pattern stays the same as for frequency histograms, but if, for example, the absolute frequency for the different groups vary wildly, the pattern itself won't vary.  Thus you can get a much more accurate comparison between the groups. "
   ]
  },
  {
   "cell_type": "markdown",
   "metadata": {},
   "source": [
    "## Understanding distributions\n",
    "A distribution is the shape that is made if you draw a line along the edge of the histogram bars. Another type of plot is the stem and leaf plot, which, when applied to the raw data will draw the same plot, but along a vertical axis rather than the horizontal one. \n"
   ]
  },
  {
   "cell_type": "code",
   "execution_count": 51,
   "metadata": {},
   "outputs": [
    {
     "ename": "TypeError",
     "evalue": "must be str, not float",
     "output_type": "error",
     "traceback": [
      "\u001b[0;31m---------------------------------------------------------------------------\u001b[0m",
      "\u001b[0;31mTypeError\u001b[0m                                 Traceback (most recent call last)",
      "\u001b[0;32m<ipython-input-51-beadda89d96c>\u001b[0m in \u001b[0;36m<module>\u001b[0;34m\u001b[0m\n\u001b[1;32m      3\u001b[0m \u001b[0;34m\u001b[0m\u001b[0m\n\u001b[1;32m      4\u001b[0m \u001b[0mdf3\u001b[0m\u001b[0;34m.\u001b[0m\u001b[0mhead\u001b[0m\u001b[0;34m(\u001b[0m\u001b[0;34m)\u001b[0m\u001b[0;34m\u001b[0m\u001b[0;34m\u001b[0m\u001b[0m\n\u001b[0;32m----> 5\u001b[0;31m \u001b[0msns\u001b[0m\u001b[0;34m.\u001b[0m\u001b[0mdistplot\u001b[0m\u001b[0;34m(\u001b[0m\u001b[0mdf3\u001b[0m\u001b[0;34m)\u001b[0m\u001b[0;34m\u001b[0m\u001b[0;34m\u001b[0m\u001b[0m\n\u001b[0m",
      "\u001b[0;32m/usr/local/lib/python3.6/dist-packages/seaborn/distributions.py\u001b[0m in \u001b[0;36mdistplot\u001b[0;34m(a, bins, hist, kde, rug, fit, hist_kws, kde_kws, rug_kws, fit_kws, color, vertical, norm_hist, axlabel, label, ax)\u001b[0m\n\u001b[1;32m    193\u001b[0m             \u001b[0mline\u001b[0m\u001b[0;34m,\u001b[0m \u001b[0;34m=\u001b[0m \u001b[0max\u001b[0m\u001b[0;34m.\u001b[0m\u001b[0mplot\u001b[0m\u001b[0;34m(\u001b[0m\u001b[0;36m0\u001b[0m\u001b[0;34m,\u001b[0m \u001b[0ma\u001b[0m\u001b[0;34m.\u001b[0m\u001b[0mmean\u001b[0m\u001b[0;34m(\u001b[0m\u001b[0;34m)\u001b[0m\u001b[0;34m)\u001b[0m\u001b[0;34m\u001b[0m\u001b[0;34m\u001b[0m\u001b[0m\n\u001b[1;32m    194\u001b[0m         \u001b[0;32melse\u001b[0m\u001b[0;34m:\u001b[0m\u001b[0;34m\u001b[0m\u001b[0;34m\u001b[0m\u001b[0m\n\u001b[0;32m--> 195\u001b[0;31m             \u001b[0mline\u001b[0m\u001b[0;34m,\u001b[0m \u001b[0;34m=\u001b[0m \u001b[0max\u001b[0m\u001b[0;34m.\u001b[0m\u001b[0mplot\u001b[0m\u001b[0;34m(\u001b[0m\u001b[0ma\u001b[0m\u001b[0;34m.\u001b[0m\u001b[0mmean\u001b[0m\u001b[0;34m(\u001b[0m\u001b[0;34m)\u001b[0m\u001b[0;34m,\u001b[0m \u001b[0;36m0\u001b[0m\u001b[0;34m)\u001b[0m\u001b[0;34m\u001b[0m\u001b[0;34m\u001b[0m\u001b[0m\n\u001b[0m\u001b[1;32m    196\u001b[0m         \u001b[0mcolor\u001b[0m \u001b[0;34m=\u001b[0m \u001b[0mline\u001b[0m\u001b[0;34m.\u001b[0m\u001b[0mget_color\u001b[0m\u001b[0;34m(\u001b[0m\u001b[0;34m)\u001b[0m\u001b[0;34m\u001b[0m\u001b[0;34m\u001b[0m\u001b[0m\n\u001b[1;32m    197\u001b[0m         \u001b[0mline\u001b[0m\u001b[0;34m.\u001b[0m\u001b[0mremove\u001b[0m\u001b[0;34m(\u001b[0m\u001b[0;34m)\u001b[0m\u001b[0;34m\u001b[0m\u001b[0;34m\u001b[0m\u001b[0m\n",
      "\u001b[0;32m~/.local/lib/python3.6/site-packages/numpy/core/_methods.py\u001b[0m in \u001b[0;36m_mean\u001b[0;34m(a, axis, dtype, out, keepdims)\u001b[0m\n\u001b[1;32m     73\u001b[0m             \u001b[0mis_float16_result\u001b[0m \u001b[0;34m=\u001b[0m \u001b[0;32mTrue\u001b[0m\u001b[0;34m\u001b[0m\u001b[0;34m\u001b[0m\u001b[0m\n\u001b[1;32m     74\u001b[0m \u001b[0;34m\u001b[0m\u001b[0m\n\u001b[0;32m---> 75\u001b[0;31m     \u001b[0mret\u001b[0m \u001b[0;34m=\u001b[0m \u001b[0mumr_sum\u001b[0m\u001b[0;34m(\u001b[0m\u001b[0marr\u001b[0m\u001b[0;34m,\u001b[0m \u001b[0maxis\u001b[0m\u001b[0;34m,\u001b[0m \u001b[0mdtype\u001b[0m\u001b[0;34m,\u001b[0m \u001b[0mout\u001b[0m\u001b[0;34m,\u001b[0m \u001b[0mkeepdims\u001b[0m\u001b[0;34m)\u001b[0m\u001b[0;34m\u001b[0m\u001b[0;34m\u001b[0m\u001b[0m\n\u001b[0m\u001b[1;32m     76\u001b[0m     \u001b[0;32mif\u001b[0m \u001b[0misinstance\u001b[0m\u001b[0;34m(\u001b[0m\u001b[0mret\u001b[0m\u001b[0;34m,\u001b[0m \u001b[0mmu\u001b[0m\u001b[0;34m.\u001b[0m\u001b[0mndarray\u001b[0m\u001b[0;34m)\u001b[0m\u001b[0;34m:\u001b[0m\u001b[0;34m\u001b[0m\u001b[0;34m\u001b[0m\u001b[0m\n\u001b[1;32m     77\u001b[0m         ret = um.true_divide(\n",
      "\u001b[0;31mTypeError\u001b[0m: must be str, not float"
     ]
    },
    {
     "data": {
      "image/png": "[encoded data removed]",
      "text/plain": [
       "<Figure size 432x288 with 1 Axes>"
      ]
     },
     "metadata": {
      "needs_background": "light"
     },
     "output_type": "display_data"
    }
   ],
   "source": [
    "import stemgraphic\n",
    "import seaborn as sns\n",
    "\n",
    "df3.head()\n",
    "sns.distplot(df3)\n"
   ]
  },
  {
   "cell_type": "markdown",
   "metadata": {},
   "source": [
    "### Distribution types\n",
    "There are a number of these patterns, which form a distribution type. Here are some simple ones. \n",
    "\n",
    "1.  Normal distribution (Also known as a Gaussian distribution) which is a symmetrical pattern with a mound in the middle.\n",
    "2. Uniform distribution.\n",
    "3. Skewed left distribution. \n",
    "4. Skewed right distribution. \n",
    "5. Bimodal distribution. \n"
   ]
  },
  {
   "cell_type": "markdown",
   "metadata": {},
   "source": [
    "Following is an example of a normal distribution. \n",
    "<img src = 'graphics/index.jpeg'/>"
   ]
  },
  {
   "cell_type": "markdown",
   "metadata": {},
   "source": [
    "A uniform distribution is one where most of the y values are close to identical.  Here's an example of a uniform distribution. \n",
    "\n",
    "<img src = 'graphics/uniform.png'/>"
   ]
  },
  {
   "cell_type": "markdown",
   "metadata": {},
   "source": [
    "A skewed left distribution is one that has smaller values on the left side of the graph than on the right.  Here's an example of a skewed left distribution. \n",
    "\n",
    "<img src = 'graphics/skewed-left.png'/>"
   ]
  },
  {
   "cell_type": "markdown",
   "metadata": {},
   "source": [
    "Alternatively a skewed right distribution is one where the y values are smaller the greater the x values. \n",
    "\n",
    "<img src = 'graphics/income-left-skew.png'/>"
   ]
  },
  {
   "cell_type": "markdown",
   "metadata": {},
   "source": [
    "A bimodal distribution is one with two mounds rather than one mound as in a normal distribution.  Usually there is a space between the two mounds. \n",
    "\n",
    "<img src = 'graphics/bimodal-distribution-2.jpg'/>\n"
   ]
  },
  {
   "cell_type": "markdown",
   "metadata": {},
   "source": [
    "### Outliers\n",
    "Outliers are measured data points that are materially different than the rest of the data.  \n",
    "\n",
    "For example:\n",
    "\n",
    "<img src = 'graphics/OutlierScatterplot_1000.gif'/>\n",
    "\n",
    "In this example, we can clearly see that there is one point that does not lie on the curve of the measured data points.  This point is the *outlier*. \n"
   ]
  }
 ],
 "metadata": {
  "kernelspec": {
   "display_name": "Python 3",
   "language": "python",
   "name": "python3"
  },
  "language_info": {
   "codemirror_mode": {
    "name": "ipython",
    "version": 3
   },
   "file_extension": ".py",
   "mimetype": "text/x-python",
   "name": "python",
   "nbconvert_exporter": "python",
   "pygments_lexer": "ipython3",
   "version": "3.6.8"
  }
 },
 "nbformat": 4,
 "nbformat_minor": 4
}
