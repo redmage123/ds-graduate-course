{
 "cells": [
  {
   "cell_type": "markdown",
   "metadata": {},
   "source": [
    "# Introduction to Statistics for Data Scientists"
   ]
  },
  {
   "cell_type": "markdown",
   "metadata": {},
   "source": [
    "## What is statistics?\n",
    "Statistics is the studyt of how to collect, organize, analyze and interpret numerical information and data. \n",
    "\n",
    "While this sounds somewhat complex, people use statistics constantly.  For example, if we want to find a good restaurant, we may go to a restaurant review site.  Reviews for a particular restaurant may vary wildly, so how do we determine whether or not we should eat at this particular establishment? \n",
    "\n",
    "This uncertainty about the data is why we need statistics.\n",
    "Statistics is both about the science of uncertainty and being able to extract relevant information from the raw data available.  (In the case of our previous example, all of the reviews for the restaurant in question). \n",
    "\n",
    "Statistics are used constantly to help people make important decisions in many different fields of endeavor, from healthcare to business to government policy.  \n",
    "\n"
   ]
  },
  {
   "cell_type": "markdown",
   "metadata": {},
   "source": [
    "## Statistics terminology\n",
    "Some words have specific meanings inside the world of statistics. \n",
    "\n",
    "### Table of meanings ###\n",
    "<table border=\"1\"> \n",
    "    <tr>\n",
    "        <th> Word </th>\n",
    "    <th> Normal Usage</th> <th> Usage in statistics</th>\n",
    "    </tr>\n",
    "    <tr>\n",
    "        <td> Individuals</td>\n",
    "        <td>Individuals are people</td>\n",
    "        <td>Individuals are people or objects included in a study</td>\n",
    "    </tr>\n",
    "    <tr>\n",
    "        <td>Variables</td>\n",
    "        <td> A factor that can vary, possibly causing a problem. </td>\n",
    "        <td> A characteristic of the person or object that needs to be measured. </td>\n",
    "    </tr>\n",
    "    </table>\n",
    "    \n",
    "The concept of an individual does not have to just include people, for example, when studying patient outcome results from a statewide survey of hospitals, the hospitals themselves are the individuals."
   ]
  },
  {
   "cell_type": "markdown",
   "metadata": {},
   "source": [
    "## Examples of individuals and variables\n",
    "\n",
    "<table border = '1'>\n",
    "    <tr>\n",
    "        <th> Individual </th>\n",
    "        <th> Variable </th>\n",
    "    </tr>\n",
    "    <tr>\n",
    "        <td> Kidney Dialysis Patient</td>\n",
    "        <td> Number of blood transfusions </td>\n",
    "    </tr> <tr>\n",
    "        <td> Baby born to mother who smokes </td>\n",
    "        <td> Birth Weight </td>. \n",
    "    </tr>\n",
    "    <tr>\n",
    "        <td> US states with casinos </td>\n",
    "        <td> Rates of pathological gambling </td>\n",
    "    </tr>\n",
    "    <tr>\n",
    "        <td> US counties with hospitals </td>\n",
    "        <td> Medication error rate </td>\n",
    "    </tr>\n",
    "    <tr>\n",
    "        <td> Urban regions </td>\n",
    "        <td> Rates of illicit drug overdose deaths </td>\n",
    "    </tr>\n",
    "        "
   ]
  },
  {
   "cell_type": "markdown",
   "metadata": {},
   "source": [
    "To re-iterate, statistics are used in many different professions to help in decision-making. \n",
    "\n",
    "Understanding statistics is necessary to understand processes in a specific chosen discipline. "
   ]
  },
  {
   "cell_type": "markdown",
   "metadata": {},
   "source": [
    "## Populations and Samples\n",
    "What are populations and samples?\n",
    "What's the difference between the two?\n",
    "\n",
    "<table border = '1'>\n",
    "    <tr>\n",
    "        <th> Term </th>\n",
    "        <th> Definition </th>\n",
    "        <th> Example </th>\n",
    "    </tr>\n",
    "    <tr>\n",
    "        <td>\n",
    "        Population\n",
    "        </td>\n",
    "        <td>\n",
    "            A group of people or objects with a common trait.Considering or analyzing every member of a group is a population.\n",
    "        </td>\n",
    "        <td> \n",
    "            Theme: All female citizens of Bulgaria.<br><br>\n",
    "            Population: Census list of all female citizens in Bulgaria.\n",
    "        </td> \n",
    "    </tr>\n",
    "    <tr>\n",
    "        <td>\n",
    "        Sample\n",
    "        </td>\n",
    "        <td>\n",
    "            Some proportion of the population.<br>\n",
    "            Samples can be <em>representative</em> or \n",
    "            <em>biased</em>. \n",
    "        </td>\n",
    "        <td>\n",
    "            Biased sample: Female bulgarian citizens between 20 and 30 years of age.  \n",
    "            Representative sample:  10 per cent of all female Bulgarian citizens in the top five largest cities in Bulgaria\n",
    "        </td>\n",
    "    </tr>  \n",
    "    </table>\n",
    "    \n",
    "\n",
    "\n"
   ]
  },
  {
   "cell_type": "markdown",
   "metadata": {},
   "source": [
    "In population data, all individuals data is available. \n",
    "The data for all individuals is called a <em>census.</em>\n",
    "\n",
    "In sample data, data is only available from some members of the population, and not others. \n",
    "\n",
    "Sample data are commonly used in areas like marketing, and healthcare. \n",
    "\n",
    "We use statistics to extrapolate from data taken from samples so that we don't have to examine the entire population.  This is beneficial because many times, attempting to analyze entire populations is far too intensive in both time and resources to be practical. "
   ]
  },
  {
   "cell_type": "markdown",
   "metadata": {},
   "source": [
    "## Statistical notation\n",
    "Note that in statistics, the variable N can be written using upper case and lower case.  They have different meanings depending on the case. \n",
    "\n",
    "Using upper case N refers to an entire population, i.e. \n",
    "N = 1000\n",
    "Using lower case n refers to a sample, i.e. \n",
    "n = 1000"
   ]
  },
  {
   "cell_type": "markdown",
   "metadata": {},
   "source": [
    "## Parameter vs. statistic\n",
    "\n",
    "A *parameter* (P)  is a measure of an entire population.\n",
    "A *statistic* (s)  is a measure of a representative sample of a population.\n",
    "\n",
    "Note that often in news casts, the word statistic is often mis-used when the word parameter is more appropriate. \n",
    "\n",
    "For example if you see a headline like 'The rate of HIV is increasing in Africa' and being called a statistic, they really mean a parameter, because the rate of HIV in Africa refers to an entire population, and not a sample.\n",
    "\n",
    "### Examples of parameters and statistics\n",
    "\n",
    "<table>\n",
    "    <tr>\n",
    "        <th> Parameter </th>\n",
    "        <th> Statistic </th>\n",
    "    </tr>\n",
    "    <tr> \n",
    "        <td> Mean age of every American on Medicare </td>\n",
    "        <td> Mean age of every American on Medicare estimated using the Medicare Benefits Schedule (MBS) </td>\n",
    "    </tr>\n",
    "    <tr>\n",
    "        <td> The proportion of Americans addicted to cigarettes</td>\n",
    "        <td> The proportion of Americans in the Behavorial Risk Factor Surveilliance Survey (BRFSS) who admit they are addicted to cigarettes </td>\n",
    "    </tr>\n",
    "    <tr>\n",
    "        <td>\n",
    "        Actual voter turnout \n",
    "        </td>\n",
    "        <td> \n",
    "            The proportion of people in opinion polls who say that they are likely to vote </td>\n",
    "    </tr>\n",
    "    </table>\n",
    "    \n",
    "        \n",
    "\n",
    "\n",
    "\n"
   ]
  },
  {
   "cell_type": "markdown",
   "metadata": {},
   "source": [
    "## Descriptive and Inferential Statistics\n",
    "\n",
    "Descriptive statistics involve methods of organizing, picturing and summarizing information from samples and populations. \n",
    "\n",
    "For example:\n",
    "\n",
    "<img src='graphics/cdc-bar-graph.png'>"
   ]
  },
  {
   "cell_type": "markdown",
   "metadata": {},
   "source": [
    "Inferential statistics involve methods of information from a sample to draw conclusions about a population. \n",
    "\n",
    "It is important to understand, therefore, that inferential statistics can *only* be performed on samples, not on populations. \n",
    "\n",
    "For example:\n",
    "\n",
    "<img src = 'graphics/dependent-variable.jpg'>"
   ]
  },
  {
   "cell_type": "markdown",
   "metadata": {},
   "source": []
  }
 ],
 "metadata": {
  "kernelspec": {
   "display_name": "Python 3",
   "language": "python",
   "name": "python3"
  },
  "language_info": {
   "codemirror_mode": {
    "name": "ipython",
    "version": 3
   },
   "file_extension": ".py",
   "mimetype": "text/x-python",
   "name": "python",
   "nbconvert_exporter": "python",
   "pygments_lexer": "ipython3",
   "version": "3.6.8"
  },
  "toc": {
   "base_numbering": 1,
   "nav_menu": {},
   "number_sections": true,
   "sideBar": true,
   "skip_h1_title": false,
   "title_cell": "Table of Contents",
   "title_sidebar": "Contents",
   "toc_cell": false,
   "toc_position": {},
   "toc_section_display": true,
   "toc_window_display": true
  }
 },
 "nbformat": 4,
 "nbformat_minor": 4
}
